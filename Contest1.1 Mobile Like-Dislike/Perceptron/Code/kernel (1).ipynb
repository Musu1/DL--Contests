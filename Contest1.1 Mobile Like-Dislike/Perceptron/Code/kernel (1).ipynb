{
  "cells": [
    {
      "metadata": {
        "trusted": true,
        "_uuid": "c6f96d527ed79a1b9f3f17ac62043385fd25cf35"
      },
      "cell_type": "code",
      "source": "import numpy as np\nimport pandas as pd\nimport matplotlib.pyplot as plt\nfrom sklearn.preprocessing import LabelEncoder,MinMaxScaler, StandardScaler\nfrom sklearn.model_selection import train_test_split, ParameterGrid\nfrom sklearn.metrics import accuracy_score, confusion_matrix, mean_squared_error, log_loss\nimport operator\nimport json\nfrom IPython import display\nimport os\nimport warnings\n\nnp.random.seed(0)\nwarnings.filterwarnings(\"ignore\")\nTHRESHOLD = 4",
      "execution_count": null,
      "outputs": []
    },
    {
      "metadata": {
        "_uuid": "bbdb5b2b24fd1a2db8f516081df8911203346db2"
      },
      "cell_type": "markdown",
      "source": "Task: To predict whether the user likes the mobile phone or not. <br>\nAssumption: If the average rating of mobile >= threshold, then the user likes it, otherwise not."
    },
    {
      "metadata": {
        "_uuid": "bd2cf349cbe58ff31d726b3c730ffe68d3288b28"
      },
      "cell_type": "markdown",
      "source": "<b>Missing values:</b><br>\n'Also Known As'(459),'Applications'(421),'Audio Features'(437),'Bezel-less display'(266),'Browser'(449),'Build Material'(338),'Co-Processor'(451),'Display Colour'(457),'Mobile High-Definition Link(MHL)'(472),'Music'(447)\n'Email','Fingerprint Sensor Position'(174),'Games'(446),'HDMI'(454),'Heart Rate Monitor'(467),'IRIS Scanner'(467),\n'Optical Image Stabilisation'(219),'Other Facilities'(444),'Phone Book'(444),'Physical Aperture'(87),'Quick Charging'(122),'Ring Tone'(444),'Ruggedness'(430),SAR Value(315),'SIM 3'(472),'SMS'(470)', 'Screen Protection'(229),'Screen to Body Ratio (claimed by the brand)'(428),'Sensor'(242),'Software Based Aperture'(473),\n'Special Features'(459),'Standby time'(334),'Stylus'(473),'TalkTime'(259), 'USB Type-C'(374),'Video Player'(456),\n'Video Recording Features'(458),'Waterproof'(398),'Wireless Charging','USB OTG Support'(159), 'Video ,'Recording'(113),'Java'(471),'Browser'(448)\n\n<b>Very low variance:</b><br>\n'Architecture'(most entries are 64-bit),'Audio Jack','GPS','Loudspeaker','Network','Network Support','Other Sensors'(28),'SIM Size', 'VoLTE'\n\n\n<b>Multivalued:</b><br>\n'Colours','Custom UI','Model'(1),'Other Sensors','Launch Date'\n\n<b>Not important:</b><br>\n'Bluetooth', 'Settings'(75),'Wi-Fi','Wi-Fi Features'\n\n<b>Doubtful:</b><br>\n'Aspect Ratio','Autofocus','Brand','Camera Features','Fingerprint Sensor'(very few entries are missing),\n'Fingerprint Sensor Position', 'Graphics'(multivalued),'Image resolution'(multivalued),'SIM Size','Sim Slot(s)', 'User Available Storage', 'SIM 1', 'SIM 2','Shooting Modes', 'Touch Screen'(24), 'USB Connectivity'\n    \n<b>To check:</b><br>\n'Display Type','Expandable Memory','FM Radio'\n\n<b>High Correlation with other features</b><br>\n'SIM Slot(s)' high correlation with SIM1\n'Weight' has high high correlation with capacity , screen-to-body ratio\n'Height' - screen size is also there\n    \n<b>Given a mobile, we can't directly get these features</b><br>\n'Rating Count', 'Review Count'\n\n<b>Keeping:</b><br>\n'Capacity','Flash'(17),'Height'(22),'Internal Memory'(20, require cleaning),'Operating System'(25, require cleaning), 'Pixel Density'(1, clean it),'Processor'(22, clean it), 'RAM'(17, clean), 'Rating','Resolution'(cleaning), 'Screen Resolution','Screen Size', 'Thickness'(22), 'Type','User Replaceable','Weight'(cleaning),'Sim Size'(), 'Other Sensors'(28), 'Screen to Body Ratio (calculated)','Width',\n"
    },
    {
      "metadata": {
        "trusted": true,
        "_uuid": "ccce68ae8c758120aa92213cb7768d3380f0eb58"
      },
      "cell_type": "code",
      "source": "# read data from file\ntrain = pd.read_csv(\"../input/train.csv\") \ntest = pd.read_csv(\"../input/test.csv\")\n\n# check the number of features and data points in train\nprint(\"Number of data points in train: %d\" % train.shape[0])\nprint(\"Number of features in train: %d\" % train.shape[1])\n\n# check the number of features and data points in test\nprint(\"Number of data points in test: %d\" % test.shape[0])\nprint(\"Number of features in test: %d\" % test.shape[1])",
      "execution_count": null,
      "outputs": []
    },
    {
      "metadata": {
        "trusted": true,
        "_uuid": "98fb5a90020386afa8a982ccfbf3e19bf632f7e1"
      },
      "cell_type": "code",
      "source": "def data_clean(data):\n    \n    # Let's first remove all missing value features\n    columns_to_remove = ['Also Known As','Applications','Audio Features','Bezel-less display'\n                         'Browser','Build Material','Co-Processor','Browser'\n                         'Display Colour','Mobile High-Definition Link(MHL)',\n                         'Music', 'Email','Fingerprint Sensor Position',\n                         'Games','HDMI','Heart Rate Monitor','IRIS Scanner', \n                         'Optical Image Stabilisation','Other Facilities',\n                         'Phone Book','Physical Aperture','Quick Charging',\n                         'Ring Tone','Ruggedness','SAR Value','SIM 3','SMS',\n                         'Screen Protection','Screen to Body Ratio (claimed by the brand)',\n                         'Sensor','Software Based Aperture', 'Special Features',\n                         'Standby time','Stylus','TalkTime', 'USB Type-C',\n                         'Video Player', 'Video Recording Features','Waterproof',\n                         'Wireless Charging','USB OTG Support', 'Video Recording','Java']\n\n    columns_to_retain = list(set(data.columns)-set(columns_to_remove))\n    data = data[columns_to_retain]\n\n    #Features having very low variance \n    columns_to_remove = ['Architecture','Audio Jack','GPS','Loudspeaker','Network','Network Support','VoLTE']\n    columns_to_retain = list(set(data.columns)-set(columns_to_remove))\n    data = data[columns_to_retain]\n\n    # Multivalued:\n    columns_to_remove = ['Architecture','Launch Date','Audio Jack','GPS','Loudspeaker','Network','Network Support','VoLTE', 'Custom UI']\n    columns_to_retain = list(set(data.columns)-set(columns_to_remove))\n    data = data[columns_to_retain]\n\n    # Not much important\n    columns_to_remove = ['Bluetooth', 'Settings','Wi-Fi','Wi-Fi Features']\n    columns_to_retain = list(set(data.columns)-set(columns_to_remove))\n    data = data[columns_to_retain]\n    \n    return data",
      "execution_count": null,
      "outputs": []
    },
    {
      "metadata": {
        "_uuid": "8999d052726e0d5193d9e838eff187410a6d9845"
      },
      "cell_type": "markdown",
      "source": "# Removing features"
    },
    {
      "metadata": {
        "trusted": true,
        "_uuid": "48ce73b7cf39d5fdd9ae5fb6bc302c37b5be2699"
      },
      "cell_type": "code",
      "source": "train = data_clean(train)\ntest = data_clean(test)",
      "execution_count": null,
      "outputs": []
    },
    {
      "metadata": {
        "_uuid": "635efc16dbf8b5c4e9fad438354d7301fc6c9462"
      },
      "cell_type": "markdown",
      "source": "removing all those data points in which more than 15 features are missing "
    },
    {
      "metadata": {
        "trusted": true,
        "_uuid": "9be8300f9e00ea654b6435f97564d1cdab5fe76f"
      },
      "cell_type": "code",
      "source": "train = train[(train.isnull().sum(axis=1) <= 15)]\n# You shouldn't remove data points from test set\n#test = test[(test.isnull().sum(axis=1) <= 15)]",
      "execution_count": null,
      "outputs": []
    },
    {
      "metadata": {
        "trusted": true,
        "_uuid": "97b1652ed9a27242e42b36700873ca3081965730"
      },
      "cell_type": "code",
      "source": "# check the number of features and data points in train\nprint(\"Number of data points in train: %d\" % train.shape[0])\nprint(\"Number of features in train: %d\" % train.shape[1])\n\n# check the number of features and data points in test\nprint(\"Number of data points in test: %d\" % test.shape[0])\nprint(\"Number of features in test: %d\" % test.shape[1])",
      "execution_count": null,
      "outputs": []
    },
    {
      "metadata": {
        "_uuid": "ce6baddb94f1ded25ca7acce0fb21a94de3b9f36"
      },
      "cell_type": "markdown",
      "source": "# Filling Missing values"
    },
    {
      "metadata": {
        "trusted": true,
        "_uuid": "5d93608aff67d66206987af7fc8d8ae983317099"
      },
      "cell_type": "code",
      "source": "def for_integer(test):\n    try:\n        test = test.strip()\n        return int(test.split(' ')[0])\n    except IOError:\n           pass\n    except ValueError:\n        pass\n    except:\n        pass\n\ndef for_string(test):\n    try:\n        test = test.strip()\n        return (test.split(' ')[0])\n    except IOError:\n        pass\n    except ValueError:\n        pass\n    except:\n        pass\n\ndef for_float(test):\n    try:\n        test = test.strip()\n        return float(test.split(' ')[0])\n    except IOError:\n        pass\n    except ValueError:\n        pass\n    except:\n        pass\ndef find_freq(test):\n    try:\n        test = test.strip()\n        test = test.split(' ')\n        if test[2][0] == '(':\n            return float(test[2][1:])\n        return float(test[2])\n    except IOError:\n        pass\n    except ValueError:\n        pass\n    except:\n        pass\n\n    \ndef for_Internal_Memory(test):\n    try:\n        test = test.strip()\n        test = test.split(' ')\n        if test[1] == 'GB':\n            return int(test[0])\n        if test[1] == 'MB':\n#             print(\"here\")\n            return (int(test[0]) * 0.001)\n    except IOError:\n           pass\n    except ValueError:\n        pass\n    except:\n        pass\n    \ndef find_freq(test):\n    try:\n        test = test.strip()\n        test = test.split(' ')\n        if test[2][0] == '(':\n            return float(test[2][1:])\n        return float(test[2])\n    except IOError:\n        pass\n    except ValueError:\n        pass\n    except:\n        pass\n",
      "execution_count": null,
      "outputs": []
    },
    {
      "metadata": {
        "trusted": true,
        "_uuid": "9932f0ca9b7c2406b0308d63fbc6d196425d58ff"
      },
      "cell_type": "code",
      "source": "def data_clean_2(x):\n    data = x.copy()\n    \n    data['Capacity'] = data['Capacity'].apply(for_integer)\n\n    data['Height'] = data['Height'].apply(for_float)\n    data['Height'] = data['Height'].fillna(data['Height'].mean())\n\n    data['Internal Memory'] = data['Internal Memory'].apply(for_Internal_Memory)\n\n    data['Pixel Density'] = data['Pixel Density'].apply(for_integer)\n\n    data['Internal Memory'] = data['Internal Memory'].fillna(data['Internal Memory'].median())\n    data['Internal Memory'] = data['Internal Memory'].astype(int)\n\n    data['RAM'] = data['RAM'].apply(for_integer)\n    data['RAM'] = data['RAM'].fillna(data['RAM'].median())\n    data['RAM'] = data['RAM'].astype(int)\n\n    data['Resolution'] = data['Resolution'].apply(for_integer)\n    data['Resolution'] = data['Resolution'].fillna(data['Resolution'].median())\n    data['Resolution'] = data['Resolution'].astype(int)\n\n    data['Screen Size'] = data['Screen Size'].apply(for_float)\n\n    data['Thickness'] = data['Thickness'].apply(for_float)\n    data['Thickness'] = data['Thickness'].fillna(data['Thickness'].mean())\n    data['Thickness'] = data['Thickness'].round(2)\n\n    data['Type'] = data['Type'].fillna('Li-Polymer')\n\n    data['Screen to Body Ratio (calculated)'] = data['Screen to Body Ratio (calculated)'].apply(for_float)\n    data['Screen to Body Ratio (calculated)'] = data['Screen to Body Ratio (calculated)'].fillna(data['Screen to Body Ratio (calculated)'].mean())\n    data['Screen to Body Ratio (calculated)'] = data['Screen to Body Ratio (calculated)'].round(2)\n\n    data['Width'] = data['Width'].apply(for_float)\n    data['Width'] = data['Width'].fillna(data['Width'].mean())\n    data['Width'] = data['Width'].round(2)\n\n    data['Flash'][data['Flash'].isna() == True] = \"Other\"\n\n    data['User Replaceable'][data['User Replaceable'].isna() == True] = \"Other\"\n\n    data['Num_cores'] = data['Processor'].apply(for_string)\n    data['Num_cores'][data['Num_cores'].isna() == True] = \"Other\"\n\n\n    data['Processor_frequency'] = data['Processor'].apply(find_freq)\n    #because there is one entry with 208MHz values, to convert it to GHz\n    data['Processor_frequency'][data['Processor_frequency'] > 200] = 0.208\n    data['Processor_frequency'] = data['Processor_frequency'].fillna(data['Processor_frequency'].mean())\n    data['Processor_frequency'] = data['Processor_frequency'].round(2)\n\n    data['Camera Features'][data['Camera Features'].isna() == True] = \"Other\"\n\n    #simplifyig Operating System to os_name for simplicity\n    data['os_name'] = data['Operating System'].apply(for_string)\n    data['os_name'][data['os_name'].isna() == True] = \"Other\"\n\n    data['Sim1'] = data['SIM 1'].apply(for_string)\n\n    data['SIM Size'][data['SIM Size'].isna() == True] = \"Other\"\n\n    data['Image Resolution'][data['Image Resolution'].isna() == True] = \"Other\"\n\n    data['Fingerprint Sensor'][data['Fingerprint Sensor'].isna() == True] = \"Other\"\n\n    data['Expandable Memory'][data['Expandable Memory'].isna() == True] = \"No\"\n\n    data['Weight'] = data['Weight'].apply(for_integer)\n    data['Weight'] = data['Weight'].fillna(data['Weight'].mean())\n    data['Weight'] = data['Weight'].astype(int)\n\n    data['SIM 2'] = data['SIM 2'].apply(for_string)\n    data['SIM 2'][data['SIM 2'].isna() == True] = \"Other\"\n    \n    return data",
      "execution_count": null,
      "outputs": []
    },
    {
      "metadata": {
        "trusted": true,
        "_uuid": "a11b2c7d7c678a917113c9b1a46348a3241afed4"
      },
      "cell_type": "code",
      "source": "train = data_clean_2(train)\ntest = data_clean_2(test)\n\n# check the number of features and data points in train\nprint(\"Number of data points in train: %d\" % train.shape[0])\nprint(\"Number of features in train: %d\" % train.shape[1])\n\n# check the number of features and data points in test\nprint(\"Number of data points in test: %d\" % test.shape[0])\nprint(\"Number of features in test: %d\" % test.shape[1])",
      "execution_count": null,
      "outputs": []
    },
    {
      "metadata": {
        "_uuid": "62cfadee958665de5938dc22c0cd018649a10567"
      },
      "cell_type": "markdown",
      "source": "Not very important feature"
    },
    {
      "metadata": {
        "trusted": true,
        "_uuid": "c9235210e2688b7f9a05b561595b92c51f3b74e6"
      },
      "cell_type": "code",
      "source": "def data_clean_3(x):\n    \n    data = x.copy()\n\n    columns_to_remove = ['User Available Storage','SIM Size','Chipset','Processor','Autofocus','Aspect Ratio','Touch Screen',\n                        'Bezel-less display','Operating System','SIM 1','USB Connectivity','Other Sensors','Graphics','FM Radio',\n                        'NFC','Shooting Modes','Browser','Display Colour' ]\n\n    columns_to_retain = list(set(data.columns)-set(columns_to_remove))\n    data = data[columns_to_retain]\n\n\n    columns_to_remove = [ 'Screen Resolution','User Replaceable','Camera Features',\n                        'Thickness', 'Display Type']\n\n    columns_to_retain = list(set(data.columns)-set(columns_to_remove))\n    data = data[columns_to_retain]\n\n\n    columns_to_remove = ['Fingerprint Sensor', 'Flash', 'Rating Count', 'Review Count','Image Resolution','Type','Expandable Memory',\\\n                        'Colours','Width','Model']\n    columns_to_retain = list(set(data.columns)-set(columns_to_remove))\n    data = data[columns_to_retain]\n\n    return data",
      "execution_count": null,
      "outputs": []
    },
    {
      "metadata": {
        "trusted": true,
        "_uuid": "362921eec6a3333c8ba406ace07ddaf35efb27d7"
      },
      "cell_type": "code",
      "source": "train = data_clean_3(train)\ntest = data_clean_3(test)\n\n# check the number of features and data points in train\nprint(\"Number of data points in train: %d\" % train.shape[0])\nprint(\"Number of features in train: %d\" % train.shape[1])\n\n# check the number of features and data points in test\nprint(\"Number of data points in test: %d\" % test.shape[0])\nprint(\"Number of features in test: %d\" % test.shape[1])",
      "execution_count": null,
      "outputs": []
    },
    {
      "metadata": {
        "trusted": true,
        "_uuid": "281e17e6e09d98434b555ca012e21ba45ac46074"
      },
      "cell_type": "code",
      "source": "# one hot encoding\n\ntrain_ids = train['PhoneId']\ntest_ids = test['PhoneId']\n\ncols = list(test.columns)\ncols.remove('PhoneId')\ncols.insert(0, 'PhoneId')\n\ncombined = pd.concat([train.drop('Rating', axis=1)[cols], test[cols]])\nprint(combined.shape)\nprint(combined.columns)\n\ncombined = pd.get_dummies(combined)\nprint(combined.shape)\nprint(combined.columns)\n\ntrain_new = combined[combined['PhoneId'].isin(train_ids)]\ntest_new = combined[combined['PhoneId'].isin(test_ids)]",
      "execution_count": null,
      "outputs": []
    },
    {
      "metadata": {
        "trusted": true,
        "_uuid": "857717f9bce66f8d05a8fd63799ab0c6a7191647"
      },
      "cell_type": "code",
      "source": "train_new = train_new.merge(train[['PhoneId', 'Rating']], on='PhoneId')",
      "execution_count": null,
      "outputs": []
    },
    {
      "metadata": {
        "trusted": true,
        "_uuid": "30a2f750dcad109c1908da0bf77e8af9ac4e5527"
      },
      "cell_type": "code",
      "source": "# check the number of features and data points in train\nprint(\"Number of data points in train: %d\" % train_new.shape[0])\nprint(\"Number of features in train: %d\" % train_new.shape[1])\n\n# check the number of features and data points in test\nprint(\"Number of data points in test: %d\" % test_new.shape[0])\nprint(\"Number of features in test: %d\" % test_new.shape[1])",
      "execution_count": null,
      "outputs": []
    },
    {
      "metadata": {
        "trusted": true,
        "_uuid": "9707fddb49bce3fa1cde3049b76fa9d1b3a0e735"
      },
      "cell_type": "code",
      "source": "train_new.head()",
      "execution_count": null,
      "outputs": []
    },
    {
      "metadata": {
        "trusted": true,
        "_uuid": "e1c9d466abeb9912d5e708ae9a660e39a9d6d89e"
      },
      "cell_type": "code",
      "source": "test_new.head()",
      "execution_count": null,
      "outputs": []
    },
    {
      "metadata": {
        "trusted": true,
        "_uuid": "7b2bdf96541344f3ad0baeae570bfdd6556f6dd3"
      },
      "cell_type": "code",
      "source": "\nclass Perceptron:\n  \n  def __init__ (self):\n    self.w = None\n    self.b = None\n    \n  def model(self, x):\n    return 1 if (np.dot(self.w, x) >= self.b) else 0\n    \n  def predict(self, X):\n    Y = []\n    for x in X:\n      result = self.model(x)\n      Y.append(result)\n    return np.array(Y)\n    \n  def fit(self, X, Y, epochs = 1, lr = 1):\n    \n    self.w = np.ones(X.shape[1])\n    self.b = 0\n    \n    accuracy = {}\n    max_accuracy = 0\n    \n    wt_matrix = []\n    \n    for i in range(epochs):\n      for x, y in zip(X, Y):\n        y_pred = self.model(x)\n        if y == 1 and y_pred == 0:\n          self.w = self.w + lr * x\n          self.b = self.b - lr * 1\n        elif y == 0 and y_pred == 1:\n          self.w = self.w - lr * x\n          self.b = self.b + lr * 1\n          \n      wt_matrix.append(self.w)    \n          \n      accuracy[i] = accuracy_score(self.predict(X), Y)\n      if (accuracy[i] > max_accuracy):\n        max_accuracy = accuracy[i]\n        chkptw = self.w\n        chkptb = self.b\n        \n    self.w = chkptw\n    self.b = chkptb\n        \n    print(max_accuracy)\n    \n    plt.plot(accuracy.values())\n    plt.ylim([0, 1])\n    plt.show()\n    \n    return np.array(wt_matrix)",
      "execution_count": null,
      "outputs": []
    },
    {
      "metadata": {
        "trusted": true,
        "_uuid": "c9906656601210c47c8c256697f9b041830bf811"
      },
      "cell_type": "code",
      "source": "#Spliting training data in inputs and outputs here rating is whatwe have too predictso \"Rating\" is the output\nX_train_new=train_new.drop(['Rating','PhoneId'],axis=1)\nY_train_new=train_new['Rating']\nprint(X_train_new.shape)\nprint(Y_train_new.shape)",
      "execution_count": null,
      "outputs": []
    },
    {
      "metadata": {
        "trusted": true,
        "_uuid": "789ca953563e5680f619405ccb5d5133aa201612"
      },
      "cell_type": "code",
      "source": "type(Y_train_new)",
      "execution_count": null,
      "outputs": []
    },
    {
      "metadata": {
        "trusted": true,
        "_uuid": "76ed768eafda081050276b104fe4f15c458ed864"
      },
      "cell_type": "code",
      "source": "#Converting seriesto dataframe\nY_train_new = Y_train_new.to_frame().reset_index()",
      "execution_count": null,
      "outputs": []
    },
    {
      "metadata": {
        "trusted": true,
        "_uuid": "45cb18f5d875b3d37fe513359691a85d2983d77c"
      },
      "cell_type": "code",
      "source": "Y_train_new.head()",
      "execution_count": null,
      "outputs": []
    },
    {
      "metadata": {
        "trusted": true,
        "_uuid": "b25c94e1e4ebe8138d11056542f1b127702bf9c7"
      },
      "cell_type": "code",
      "source": "#1->Like the mobile and 0-> Dislike\nY_binarised_train=Y_train_new['Rating'].map(lambda x:0 if x<4 else 1)\nY_binarised_train.head()",
      "execution_count": null,
      "outputs": []
    },
    {
      "metadata": {
        "trusted": true,
        "_uuid": "7dac2dbdbd50a699dfcc080e098c26bf2d66f0f2"
      },
      "cell_type": "code",
      "source": "type(X_train_new)",
      "execution_count": null,
      "outputs": []
    },
    {
      "metadata": {
        "trusted": true,
        "_uuid": "40282ba416d503979da939e6e97419bb0727a5ac"
      },
      "cell_type": "code",
      "source": "X_train_new=X_train_new.values\nY_binarised_train=Y_binarised_train.values",
      "execution_count": null,
      "outputs": []
    },
    {
      "metadata": {
        "trusted": true,
        "_uuid": "15385d7ffa687d8caae04af97768c59ee3127929"
      },
      "cell_type": "code",
      "source": "perceptron=Perceptron()",
      "execution_count": null,
      "outputs": []
    },
    {
      "metadata": {
        "trusted": true,
        "_uuid": "835f59f41a39535de4a64cb39cc192d4b27b331f"
      },
      "cell_type": "code",
      "source": "X_train_new.shape[1]",
      "execution_count": null,
      "outputs": []
    },
    {
      "metadata": {
        "trusted": true,
        "_uuid": "e8b3cc6d33c680161aebd28fee1394b63a40f013"
      },
      "cell_type": "code",
      "source": "perceptron.fit(X_train_new,Y_binarised_train,10000,0.001)",
      "execution_count": 124,
      "outputs": [
        {
          "output_type": "stream",
          "text": "0.7565982404692082\n",
          "name": "stdout"
        },
        {
          "output_type": "display_data",
          "data": {
            "text/plain": "<Figure size 432x288 with 1 Axes>",
            "image/png": "[encoded data removed]"
          },
          "metadata": {}
        },
        {
          "output_type": "execute_result",
          "execution_count": 124,
          "data": {
            "text/plain": "array([[-6.1800000e+02,  8.6100000e+02, -1.8395000e+02, ...,\n         2.0000000e+00, -1.0000000e+00,  0.0000000e+00],\n       [-8.9900000e+02,  1.9330000e+03, -1.9919000e+02, ...,\n         3.0000000e+00, -4.0000000e+00, -1.0000000e+00],\n       [-1.4820000e+03,  2.8170000e+03, -3.6343000e+02, ...,\n         4.0000000e+00, -6.0000000e+00, -2.0000000e+00],\n       ...,\n       [-1.0100500e+05,  9.5409000e+04, -1.5883914e+05, ...,\n         5.9000000e+01, -2.5650000e+04, -5.0160000e+03],\n       [-1.0067100e+05,  9.5385000e+04, -1.5863215e+05, ...,\n         5.9000000e+01, -2.5652000e+04, -5.0170000e+03],\n       [-1.0050800e+05,  9.5361000e+04, -1.5852956e+05, ...,\n         5.9000000e+01, -2.5655000e+04, -5.0170000e+03]])"
          },
          "metadata": {}
        }
      ]
    },
    {
      "metadata": {
        "trusted": true,
        "_uuid": "277d354606813b663312eb203234428df0a7f8fd"
      },
      "cell_type": "code",
      "source": "X_test_new=test_new.drop(['PhoneId'],axis=1)",
      "execution_count": null,
      "outputs": []
    },
    {
      "metadata": {
        "trusted": true,
        "_uuid": "cb81206dd5569e4b9b6112aa498524259723ae46"
      },
      "cell_type": "code",
      "source": "X_test_new=X_test_new.values",
      "execution_count": null,
      "outputs": []
    },
    {
      "metadata": {
        "trusted": true,
        "_uuid": "8c13d00efc40b7e908d76856d977306c657a50bc"
      },
      "cell_type": "code",
      "source": "y_pred_test=perceptron.predict(X_test_new)",
      "execution_count": null,
      "outputs": []
    },
    {
      "metadata": {
        "trusted": true,
        "_uuid": "6f0e0e6d3b52291b5b968cd52a8944d55c42097b"
      },
      "cell_type": "code",
      "source": "print(y_pred_test)",
      "execution_count": 121,
      "outputs": [
        {
          "output_type": "stream",
          "text": "[1 1 1 1 1 1 1 1 1 1 1 1 1 1 1 1 1 1 1 1 1 1 1 1 1 1 1 1 1 1 1 1 0 1 1 1 0\n 1 1 1 1 1 1 1 1 0 1 1 0 1 1 0 1 1 1 1 1 1 1 1 1 0 0 0 1 1 1 1 1 1 0 1 1 1\n 1 1 1 1 1 1 1 1 1 1 1 1 1 1 1 1 1 1 1 1 1 0 1 1 1 1 1 1 1 1 1 1 1 0 1 1 0\n 1 0 1 1 1 0 1 0]\n",
          "name": "stdout"
        }
      ]
    },
    {
      "metadata": {
        "trusted": true,
        "_uuid": "e7ecd59d66e871a78a0437fbecdef2a029bdd34f"
      },
      "cell_type": "code",
      "source": "submission = pd.DataFrame({'PhoneId':test_new['PhoneId'], 'Class':y_pred_test})\nsubmission = submission[['PhoneId', 'Class']]\nsubmission.head()",
      "execution_count": 122,
      "outputs": [
        {
          "output_type": "execute_result",
          "execution_count": 122,
          "data": {
            "text/plain": "   PhoneId  Class\n0        3      1\n1       11      1\n2       13      1\n3       16      1\n4       19      1",
            "text/html": "<div>\n<style scoped>\n    .dataframe tbody tr th:only-of-type {\n        vertical-align: middle;\n    }\n\n    .dataframe tbody tr th {\n        vertical-align: top;\n    }\n\n    .dataframe thead th {\n        text-align: right;\n    }\n</style>\n<table border=\"1\" class=\"dataframe\">\n  <thead>\n    <tr style=\"text-align: right;\">\n      <th></th>\n      <th>PhoneId</th>\n      <th>Class</th>\n    </tr>\n  </thead>\n  <tbody>\n    <tr>\n      <th>0</th>\n      <td>3</td>\n      <td>1</td>\n    </tr>\n    <tr>\n      <th>1</th>\n      <td>11</td>\n      <td>1</td>\n    </tr>\n    <tr>\n      <th>2</th>\n      <td>13</td>\n      <td>1</td>\n    </tr>\n    <tr>\n      <th>3</th>\n      <td>16</td>\n      <td>1</td>\n    </tr>\n    <tr>\n      <th>4</th>\n      <td>19</td>\n      <td>1</td>\n    </tr>\n  </tbody>\n</table>\n</div>"
          },
          "metadata": {}
        }
      ]
    },
    {
      "metadata": {
        "trusted": true,
        "_uuid": "2c03764848eff5d4be2d448c97b25c266c7cc707"
      },
      "cell_type": "code",
      "source": "submission.to_csv(\"submission.csv\", index=False)",
      "execution_count": 123,
      "outputs": []
    }
  ],
  "metadata": {
    "kernelspec": {
      "display_name": "Python 3",
      "language": "python",
      "name": "python3"
    },
    "language_info": {
      "name": "python",
      "version": "3.6.6",
      "mimetype": "text/x-python",
      "codemirror_mode": {
        "name": "ipython",
        "version": 3
      },
      "pygments_lexer": "ipython3",
      "nbconvert_exporter": "python",
      "file_extension": ".py"
    }
  },
  "nbformat": 4,
  "nbformat_minor": 1
}