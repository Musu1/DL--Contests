{
  "cells": [
    {
      "metadata": {
        "trusted": true,
        "_uuid": "e20082afab457a1f3ac86546ecfef3cd616b3c1d"
      },
      "cell_type": "code",
      "source": "import numpy as np\nimport pandas as pd\nimport matplotlib.pyplot as plt\nfrom sklearn.preprocessing import LabelEncoder,MinMaxScaler, StandardScaler\nfrom sklearn.model_selection import train_test_split, ParameterGrid\nfrom sklearn.metrics import accuracy_score, confusion_matrix, mean_squared_error, log_loss\nimport operator\nimport json\nfrom IPython import display\nimport os\nimport warnings\n\nnp.random.seed(0)\nwarnings.filterwarnings(\"ignore\")\nTHRESHOLD = 4",
      "execution_count": null,
      "outputs": []
    },
    {
      "metadata": {
        "_uuid": "9f97469fdba6a8b389f22a5774e9a21c8a9fde7f"
      },
      "cell_type": "markdown",
      "source": "Task: To predict whether the user likes the mobile phone or not. <br>\nAssumption: If the average rating of mobile >= threshold, then the user likes it, otherwise not."
    },
    {
      "metadata": {
        "_uuid": "972d8487efc01c0f519ba524eed922fd30fdb9ee"
      },
      "cell_type": "markdown",
      "source": "<b>Missing values:</b><br>\n'Also Known As'(459),'Applications'(421),'Audio Features'(437),'Bezel-less display'(266),'Browser'(449),'Build Material'(338),'Co-Processor'(451),'Display Colour'(457),'Mobile High-Definition Link(MHL)'(472),'Music'(447)\n'Email','Fingerprint Sensor Position'(174),'Games'(446),'HDMI'(454),'Heart Rate Monitor'(467),'IRIS Scanner'(467),\n'Optical Image Stabilisation'(219),'Other Facilities'(444),'Phone Book'(444),'Physical Aperture'(87),'Quick Charging'(122),'Ring Tone'(444),'Ruggedness'(430),SAR Value(315),'SIM 3'(472),'SMS'(470)', 'Screen Protection'(229),'Screen to Body Ratio (claimed by the brand)'(428),'Sensor'(242),'Software Based Aperture'(473),\n'Special Features'(459),'Standby time'(334),'Stylus'(473),'TalkTime'(259), 'USB Type-C'(374),'Video Player'(456),\n'Video Recording Features'(458),'Waterproof'(398),'Wireless Charging','USB OTG Support'(159), 'Video ,'Recording'(113),'Java'(471),'Browser'(448)\n\n<b>Very low variance:</b><br>\n'Architecture'(most entries are 64-bit),'Audio Jack','GPS','Loudspeaker','Network','Network Support','Other Sensors'(28),'SIM Size', 'VoLTE'\n\n\n<b>Multivalued:</b><br>\n'Colours','Custom UI','Model'(1),'Other Sensors','Launch Date'\n\n<b>Not important:</b><br>\n'Bluetooth', 'Settings'(75),'Wi-Fi','Wi-Fi Features'\n\n<b>Doubtful:</b><br>\n'Aspect Ratio','Autofocus','Brand','Camera Features','Fingerprint Sensor'(very few entries are missing),\n'Fingerprint Sensor Position', 'Graphics'(multivalued),'Image resolution'(multivalued),'SIM Size','Sim Slot(s)', 'User Available Storage', 'SIM 1', 'SIM 2','Shooting Modes', 'Touch Screen'(24), 'USB Connectivity'\n    \n<b>To check:</b><br>\n'Display Type','Expandable Memory','FM Radio'\n\n<b>High Correlation with other features</b><br>\n'SIM Slot(s)' high correlation with SIM1\n'Weight' has high high correlation with capacity , screen-to-body ratio\n'Height' - screen size is also there\n    \n<b>Given a mobile, we can't directly get these features</b><br>\n'Rating Count', 'Review Count'\n\n<b>Keeping:</b><br>\n'Capacity','Flash'(17),'Height'(22),'Internal Memory'(20, require cleaning),'Operating System'(25, require cleaning), 'Pixel Density'(1, clean it),'Processor'(22, clean it), 'RAM'(17, clean), 'Rating','Resolution'(cleaning), 'Screen Resolution','Screen Size', 'Thickness'(22), 'Type','User Replaceable','Weight'(cleaning),'Sim Size'(), 'Other Sensors'(28), 'Screen to Body Ratio (calculated)','Width',\n"
    },
    {
      "metadata": {
        "trusted": true,
        "_uuid": "741dee922df6db098a5193548f395c935a5ac353"
      },
      "cell_type": "code",
      "source": "# read data from file\ntrain = pd.read_csv(\"../input/train.csv\") \ntest = pd.read_csv(\"../input/test.csv\")\n\n# check the number of features and data points in train\nprint(\"Number of data points in train: %d\" % train.shape[0])\nprint(\"Number of features in train: %d\" % train.shape[1])\n\n# check the number of features and data points in test\nprint(\"Number of data points in test: %d\" % test.shape[0])\nprint(\"Number of features in test: %d\" % test.shape[1])",
      "execution_count": null,
      "outputs": []
    },
    {
      "metadata": {
        "trusted": true,
        "_uuid": "f354c8e12a37f0f8868d1fde640d5315cdd5484a"
      },
      "cell_type": "code",
      "source": "def data_clean(data):\n    \n    # Let's first remove all missing value features\n    columns_to_remove = ['Also Known As','Applications','Audio Features','Bezel-less display'\n                         'Browser','Build Material','Co-Processor','Browser'\n                         'Display Colour','Mobile High-Definition Link(MHL)',\n                         'Music', 'Email','Fingerprint Sensor Position',\n                         'Games','HDMI','Heart Rate Monitor','IRIS Scanner', \n                         'Optical Image Stabilisation','Other Facilities',\n                         'Phone Book','Physical Aperture','Quick Charging',\n                         'Ring Tone','Ruggedness','SAR Value','SIM 3','SMS',\n                         'Screen Protection','Screen to Body Ratio (claimed by the brand)',\n                         'Sensor','Software Based Aperture', 'Special Features',\n                         'Standby time','Stylus','TalkTime', 'USB Type-C',\n                         'Video Player', 'Video Recording Features','Waterproof',\n                         'Wireless Charging','USB OTG Support', 'Video Recording','Java']\n\n    columns_to_retain = list(set(data.columns)-set(columns_to_remove))\n    data = data[columns_to_retain]\n\n    #Features having very low variance \n    columns_to_remove = ['Architecture','Audio Jack','GPS','Loudspeaker','Network','Network Support','VoLTE']\n    columns_to_retain = list(set(data.columns)-set(columns_to_remove))\n    data = data[columns_to_retain]\n\n    # Multivalued:\n    columns_to_remove = ['Architecture','Launch Date','Audio Jack','GPS','Loudspeaker','Network','Network Support','VoLTE', 'Custom UI']\n    columns_to_retain = list(set(data.columns)-set(columns_to_remove))\n    data = data[columns_to_retain]\n\n    # Not much important\n    columns_to_remove = ['Bluetooth', 'Settings','Wi-Fi','Wi-Fi Features']\n    columns_to_retain = list(set(data.columns)-set(columns_to_remove))\n    data = data[columns_to_retain]\n    \n    return data",
      "execution_count": null,
      "outputs": []
    },
    {
      "metadata": {
        "_uuid": "6a2c67a40b9b5b6e409a620b7a6ffdf80c6a1d4c"
      },
      "cell_type": "markdown",
      "source": "# Removing features"
    },
    {
      "metadata": {
        "trusted": true,
        "_uuid": "e2ce240203f9621e0a97449770a2961ebed86168"
      },
      "cell_type": "code",
      "source": "train = data_clean(train)\ntest = data_clean(test)",
      "execution_count": null,
      "outputs": []
    },
    {
      "metadata": {
        "_uuid": "b0bdaecdb4761b7e67028bd85adb2a885929fe1c"
      },
      "cell_type": "markdown",
      "source": "removing all those data points in which more than 15 features are missing "
    },
    {
      "metadata": {
        "trusted": true,
        "_uuid": "321e9181f20888a2d9d6f083b34029d9e5aa712a"
      },
      "cell_type": "code",
      "source": "train = train[(train.isnull().sum(axis=1) <= 15)]\n# You shouldn't remove data points from test set\n#test = test[(test.isnull().sum(axis=1) <= 15)]",
      "execution_count": null,
      "outputs": []
    },
    {
      "metadata": {
        "trusted": true,
        "_uuid": "02caba4768888cae324bef07db9a301662b689cc"
      },
      "cell_type": "code",
      "source": "# check the number of features and data points in train\nprint(\"Number of data points in train: %d\" % train.shape[0])\nprint(\"Number of features in train: %d\" % train.shape[1])\n\n# check the number of features and data points in test\nprint(\"Number of data points in test: %d\" % test.shape[0])\nprint(\"Number of features in test: %d\" % test.shape[1])",
      "execution_count": null,
      "outputs": []
    },
    {
      "metadata": {
        "_uuid": "9906a5dbed6d6e48a449f56fde2e23ac0bf36bd5"
      },
      "cell_type": "markdown",
      "source": "# Filling Missing values"
    },
    {
      "metadata": {
        "trusted": true,
        "_uuid": "e4ab1bf6ff0e758e7f7e6c057220c17fdbc98145"
      },
      "cell_type": "code",
      "source": "def for_integer(test):\n    try:\n        test = test.strip()\n        return int(test.split(' ')[0])\n    except IOError:\n           pass\n    except ValueError:\n        pass\n    except:\n        pass\n\ndef for_string(test):\n    try:\n        test = test.strip()\n        return (test.split(' ')[0])\n    except IOError:\n        pass\n    except ValueError:\n        pass\n    except:\n        pass\n\ndef for_float(test):\n    try:\n        test = test.strip()\n        return float(test.split(' ')[0])\n    except IOError:\n        pass\n    except ValueError:\n        pass\n    except:\n        pass\ndef find_freq(test):\n    try:\n        test = test.strip()\n        test = test.split(' ')\n        if test[2][0] == '(':\n            return float(test[2][1:])\n        return float(test[2])\n    except IOError:\n        pass\n    except ValueError:\n        pass\n    except:\n        pass\n\n    \ndef for_Internal_Memory(test):\n    try:\n        test = test.strip()\n        test = test.split(' ')\n        if test[1] == 'GB':\n            return int(test[0])\n        if test[1] == 'MB':\n#             print(\"here\")\n            return (int(test[0]) * 0.001)\n    except IOError:\n           pass\n    except ValueError:\n        pass\n    except:\n        pass\n    \ndef find_freq(test):\n    try:\n        test = test.strip()\n        test = test.split(' ')\n        if test[2][0] == '(':\n            return float(test[2][1:])\n        return float(test[2])\n    except IOError:\n        pass\n    except ValueError:\n        pass\n    except:\n        pass\n",
      "execution_count": null,
      "outputs": []
    },
    {
      "metadata": {
        "trusted": true,
        "_uuid": "d8d024188de24d7860ea30606b9f6ac4b0fceffc"
      },
      "cell_type": "code",
      "source": "def data_clean_2(x):\n    data = x.copy()\n    \n    data['Capacity'] = data['Capacity'].apply(for_integer)\n\n    data['Height'] = data['Height'].apply(for_float)\n    data['Height'] = data['Height'].fillna(data['Height'].mean())\n\n    data['Internal Memory'] = data['Internal Memory'].apply(for_Internal_Memory)\n\n    data['Pixel Density'] = data['Pixel Density'].apply(for_integer)\n\n    data['Internal Memory'] = data['Internal Memory'].fillna(data['Internal Memory'].median())\n    data['Internal Memory'] = data['Internal Memory'].astype(int)\n\n    data['RAM'] = data['RAM'].apply(for_integer)\n    data['RAM'] = data['RAM'].fillna(data['RAM'].median())\n    data['RAM'] = data['RAM'].astype(int)\n\n    data['Resolution'] = data['Resolution'].apply(for_integer)\n    data['Resolution'] = data['Resolution'].fillna(data['Resolution'].median())\n    data['Resolution'] = data['Resolution'].astype(int)\n\n    data['Screen Size'] = data['Screen Size'].apply(for_float)\n\n    data['Thickness'] = data['Thickness'].apply(for_float)\n    data['Thickness'] = data['Thickness'].fillna(data['Thickness'].mean())\n    data['Thickness'] = data['Thickness'].round(2)\n\n    data['Type'] = data['Type'].fillna('Li-Polymer')\n\n    data['Screen to Body Ratio (calculated)'] = data['Screen to Body Ratio (calculated)'].apply(for_float)\n    data['Screen to Body Ratio (calculated)'] = data['Screen to Body Ratio (calculated)'].fillna(data['Screen to Body Ratio (calculated)'].mean())\n    data['Screen to Body Ratio (calculated)'] = data['Screen to Body Ratio (calculated)'].round(2)\n\n    data['Width'] = data['Width'].apply(for_float)\n    data['Width'] = data['Width'].fillna(data['Width'].mean())\n    data['Width'] = data['Width'].round(2)\n\n    data['Flash'][data['Flash'].isna() == True] = \"Other\"\n\n    data['User Replaceable'][data['User Replaceable'].isna() == True] = \"Other\"\n\n    data['Num_cores'] = data['Processor'].apply(for_string)\n    data['Num_cores'][data['Num_cores'].isna() == True] = \"Other\"\n\n\n    data['Processor_frequency'] = data['Processor'].apply(find_freq)\n    #because there is one entry with 208MHz values, to convert it to GHz\n    data['Processor_frequency'][data['Processor_frequency'] > 200] = 0.208\n    data['Processor_frequency'] = data['Processor_frequency'].fillna(data['Processor_frequency'].mean())\n    data['Processor_frequency'] = data['Processor_frequency'].round(2)\n\n    data['Camera Features'][data['Camera Features'].isna() == True] = \"Other\"\n\n    #simplifyig Operating System to os_name for simplicity\n    data['os_name'] = data['Operating System'].apply(for_string)\n    data['os_name'][data['os_name'].isna() == True] = \"Other\"\n\n    data['Sim1'] = data['SIM 1'].apply(for_string)\n\n    data['SIM Size'][data['SIM Size'].isna() == True] = \"Other\"\n\n    data['Image Resolution'][data['Image Resolution'].isna() == True] = \"Other\"\n\n    data['Fingerprint Sensor'][data['Fingerprint Sensor'].isna() == True] = \"Other\"\n\n    data['Expandable Memory'][data['Expandable Memory'].isna() == True] = \"No\"\n\n    data['Weight'] = data['Weight'].apply(for_integer)\n    data['Weight'] = data['Weight'].fillna(data['Weight'].mean())\n    data['Weight'] = data['Weight'].astype(int)\n\n    data['SIM 2'] = data['SIM 2'].apply(for_string)\n    data['SIM 2'][data['SIM 2'].isna() == True] = \"Other\"\n    \n    return data",
      "execution_count": null,
      "outputs": []
    },
    {
      "metadata": {
        "trusted": true,
        "_uuid": "58039e15dff7acb1a50ff1cb958b442e27e9f989"
      },
      "cell_type": "code",
      "source": "train = data_clean_2(train)\ntest = data_clean_2(test)\n\n# check the number of features and data points in train\nprint(\"Number of data points in train: %d\" % train.shape[0])\nprint(\"Number of features in train: %d\" % train.shape[1])\n\n# check the number of features and data points in test\nprint(\"Number of data points in test: %d\" % test.shape[0])\nprint(\"Number of features in test: %d\" % test.shape[1])",
      "execution_count": null,
      "outputs": []
    },
    {
      "metadata": {
        "_uuid": "38964b2352f6fb0401185f94753c6761c48887be"
      },
      "cell_type": "markdown",
      "source": "Not very important feature"
    },
    {
      "metadata": {
        "trusted": true,
        "_uuid": "962820d6b7551ff56237fe8e6f1f02c6ec585ab4"
      },
      "cell_type": "code",
      "source": "def data_clean_3(x):\n    \n    data = x.copy()\n\n    columns_to_remove = ['User Available Storage','SIM Size','Chipset','Processor','Autofocus','Aspect Ratio','Touch Screen',\n                        'Bezel-less display','Operating System','SIM 1','USB Connectivity','Other Sensors','Graphics','FM Radio',\n                        'NFC','Shooting Modes','Browser','Display Colour' ]\n\n    columns_to_retain = list(set(data.columns)-set(columns_to_remove))\n    data = data[columns_to_retain]\n\n\n    columns_to_remove = [ 'Screen Resolution','User Replaceable','Camera Features',\n                        'Thickness', 'Display Type']\n\n    columns_to_retain = list(set(data.columns)-set(columns_to_remove))\n    data = data[columns_to_retain]\n\n\n    columns_to_remove = ['Fingerprint Sensor', 'Flash', 'Rating Count', 'Review Count','Image Resolution','Type','Expandable Memory',\\\n                        'Colours','Width','Model']\n    columns_to_retain = list(set(data.columns)-set(columns_to_remove))\n    data = data[columns_to_retain]\n\n    return data",
      "execution_count": null,
      "outputs": []
    },
    {
      "metadata": {
        "trusted": true,
        "_uuid": "54d9a7805970782f4cc0082362cdb1c90007381b"
      },
      "cell_type": "code",
      "source": "train = data_clean_3(train)\ntest = data_clean_3(test)\n\n# check the number of features and data points in train\nprint(\"Number of data points in train: %d\" % train.shape[0])\nprint(\"Number of features in train: %d\" % train.shape[1])\n\n# check the number of features and data points in test\nprint(\"Number of data points in test: %d\" % test.shape[0])\nprint(\"Number of features in test: %d\" % test.shape[1])\n\n",
      "execution_count": null,
      "outputs": []
    },
    {
      "metadata": {
        "trusted": true,
        "_uuid": "94e692e3a2e504f6e6a0efca77baa9304e8f6525"
      },
      "cell_type": "code",
      "source": "train.head()\n",
      "execution_count": null,
      "outputs": []
    },
    {
      "metadata": {
        "trusted": true,
        "_uuid": "90603de1d3b3deef1d8e93b9dd63ff799f77b562"
      },
      "cell_type": "code",
      "source": "\ntest.head()",
      "execution_count": null,
      "outputs": []
    },
    {
      "metadata": {
        "trusted": true,
        "_uuid": "5ecd6b840b5e332a65a5c3ed1e22a05c08b841c4"
      },
      "cell_type": "code",
      "source": "# one hot encoding\n\ntrain_ids = train['PhoneId']\ntest_ids = test['PhoneId']\n\ncols = list(test.columns)\ncols.remove('PhoneId')\ncols.insert(0, 'PhoneId')\n\ncombined = pd.concat([train.drop('Rating', axis=1)[cols], test[cols]])\nprint(combined.shape)\nprint(combined.columns)\n\ncombined = pd.get_dummies(combined)\nprint(combined.shape)\nprint(combined.columns)\n\ntrain_new = combined[combined['PhoneId'].isin(train_ids)]\ntest_new = combined[combined['PhoneId'].isin(test_ids)]",
      "execution_count": null,
      "outputs": []
    },
    {
      "metadata": {
        "trusted": true,
        "_uuid": "4bf773b6f9f3c0c65587803dff70273e03fb88fd"
      },
      "cell_type": "code",
      "source": "train_new = train_new.merge(train[['PhoneId', 'Rating']], on='PhoneId')",
      "execution_count": null,
      "outputs": []
    },
    {
      "metadata": {
        "trusted": true,
        "_uuid": "a9322ec77c1efa7755a28d06c516f55a181ae5d5"
      },
      "cell_type": "code",
      "source": "# check the number of features and data points in train\nprint(\"Number of data points in train: %d\" % train_new.shape[0])\nprint(\"Number of features in train: %d\" % train_new.shape[1])\n\n# check the number of features and data points in test\nprint(\"Number of data points in test: %d\" % test_new.shape[0])\nprint(\"Number of features in test: %d\" % test_new.shape[1])",
      "execution_count": null,
      "outputs": []
    },
    {
      "metadata": {
        "trusted": true,
        "_uuid": "f02797ccccf5ba583b86145238df19bf2e84a5ad"
      },
      "cell_type": "code",
      "source": "train_new.head()",
      "execution_count": null,
      "outputs": []
    },
    {
      "metadata": {
        "trusted": true,
        "_uuid": "a590657cd1bef32af921ed37022a22c4524bfc04"
      },
      "cell_type": "code",
      "source": "test_new.head()",
      "execution_count": null,
      "outputs": []
    },
    {
      "metadata": {
        "trusted": true,
        "_uuid": "89da641e959a75b19826ec94d7c73cafd79d14fc"
      },
      "cell_type": "code",
      "source": "#Spliting training data in inputs and outputs here rating is whatwe have too predictso \"Rating\" is the output\nX_train_new=train_new.drop(['Rating','PhoneId'],axis=1)\nY_train_new=train_new['Rating']\nprint(X_train_new.shape)\nprint(Y_train_new.shape)",
      "execution_count": null,
      "outputs": []
    },
    {
      "metadata": {
        "trusted": true,
        "_uuid": "d20a80205722fd8c3f6f293b4343b7c9b4bf07a6"
      },
      "cell_type": "code",
      "source": "plt.figure(figsize=(150,80))\nplt.tick_params(labelsize=50)\nplt.rcParams['lines.markersize'] = 50\nplt.plot(train_new[['Processor_frequency']],train_new[['Rating']],'*')\n#plt.xlim(0,10)\n#lt.ylim(0,10000)\nplt.xticks(rotation=45)\nplt.show()",
      "execution_count": null,
      "outputs": []
    },
    {
      "metadata": {
        "trusted": true,
        "_uuid": "b3fffba83e42fe39d6f6c18bf4af15683edf6568"
      },
      "cell_type": "code",
      "source": "#Since we are using MP neuron first step is to make input in binary that is binarisation\nplt.figure(figsize=(150,80))\nplt.tick_params(labelsize=50)\nplt.rcParams['lines.markersize'] = 50\nplt.plot(train_new.T,'*')\n#plt.ylim(0,64)\n#lt.ylim(0,10000)\nplt.xticks(rotation=45)\nplt.show()",
      "execution_count": null,
      "outputs": []
    },
    {
      "metadata": {
        "trusted": true,
        "_uuid": "81a68d7c424cbc049d0d12cafb3624e93738932f"
      },
      "cell_type": "code",
      "source": "train_new.groupby('Rating').mean()",
      "execution_count": null,
      "outputs": []
    },
    {
      "metadata": {
        "trusted": true,
        "_uuid": "3cfb993cfe75cf5d35322dc2f892c7703b908a40"
      },
      "cell_type": "code",
      "source": "type(X_train_new_1)",
      "execution_count": null,
      "outputs": []
    },
    {
      "metadata": {
        "trusted": true,
        "_uuid": "4492633980a31b5cedcfb1986ad2b251620bb3c5"
      },
      "cell_type": "code",
      "source": "X_train_new_1=X_train_new",
      "execution_count": null,
      "outputs": []
    },
    {
      "metadata": {
        "trusted": true,
        "_uuid": "801cfc0c48c459d1f6f8b8ca60e3a9aa8e37b025"
      },
      "cell_type": "code",
      "source": "X_train_new_1['Internal Memory']=X_train_new_1['Internal Memory'].map(lambda x:1 if x>16  else 0)",
      "execution_count": null,
      "outputs": []
    },
    {
      "metadata": {
        "trusted": true,
        "_uuid": "ca725295fb07a1fd18c15b91e699f1c0c7e9d5a0"
      },
      "cell_type": "code",
      "source": "X_train_new_1['Weight']=X_train_new_1['Weight'].map(lambda x:1 if x>145  else 0)",
      "execution_count": null,
      "outputs": []
    },
    {
      "metadata": {
        "trusted": true,
        "_uuid": "cc5344dca86d9ecf1379bd4aa1208ba58a846e93"
      },
      "cell_type": "code",
      "source": "X_train_new_1['Capacity']=X_train_new_1['Capacity'].map(lambda x:1 if x>2500  else 0)",
      "execution_count": null,
      "outputs": []
    },
    {
      "metadata": {
        "trusted": true,
        "_uuid": "2e4ccc22ffcce5df9f9ee45ca113f01d14375efa"
      },
      "cell_type": "code",
      "source": "X_train_new_1['Height']=X_train_new_1['Height'].map(lambda x:1 if x>140  else 0)",
      "execution_count": null,
      "outputs": []
    },
    {
      "metadata": {
        "trusted": true,
        "_uuid": "42fc61255ba3df0d3562c199320543aee847d69b"
      },
      "cell_type": "code",
      "source": "X_train_new_1['Pixel Density']=X_train_new_1['Pixel Density'].map(lambda x:1 if x>270  else 0)",
      "execution_count": null,
      "outputs": []
    },
    {
      "metadata": {
        "trusted": true,
        "_uuid": "2191c237c2e84d8b15d4e83ae0e61faecae272a4"
      },
      "cell_type": "code",
      "source": "X_train_new_1['RAM']=X_train_new_1['RAM'].map(lambda x:1 if x<8  else 0)",
      "execution_count": null,
      "outputs": []
    },
    {
      "metadata": {
        "trusted": true,
        "_uuid": "7bc121d7dbc73c8267db1c7f653a76b79059e87e"
      },
      "cell_type": "code",
      "source": "X_train_new_1['Screen Size']=X_train_new_1['Screen Size'].map(lambda x:1 if x>4.2  else 0)",
      "execution_count": null,
      "outputs": []
    },
    {
      "metadata": {
        "trusted": true,
        "_uuid": "cf21923d1c979eb4e349d5044a038d84fc634318"
      },
      "cell_type": "code",
      "source": "X_train_new_1['Resolution']=X_train_new_1['Resolution'].map(lambda x:1 if x>10  else 0)",
      "execution_count": null,
      "outputs": []
    },
    {
      "metadata": {
        "trusted": true,
        "_uuid": "fc73f20dae52c6d7ea4b54d5f7934f56a4989b87"
      },
      "cell_type": "code",
      "source": "X_train_new_1['Processor_frequency']=X_train_new_1['Processor_frequency'].map(lambda x:1 if x>1.75  else 0)",
      "execution_count": null,
      "outputs": []
    },
    {
      "metadata": {
        "trusted": true,
        "_uuid": "8789916b289a468e04df275eb4ccf078252d2164"
      },
      "cell_type": "code",
      "source": "X_train_new_1['Screen to Body Ratio (calculated)']=X_train_new_1['Screen to Body Ratio (calculated)'].map(lambda x:1 if x>65  else 0)",
      "execution_count": null,
      "outputs": []
    },
    {
      "metadata": {
        "trusted": true,
        "_uuid": "4e0652943bedca3296b8ce6885cde2fc05baee51"
      },
      "cell_type": "code",
      "source": "print(X_train_new_1.shape)",
      "execution_count": null,
      "outputs": []
    },
    {
      "metadata": {
        "trusted": true,
        "_uuid": "1a944d17ab6d0da39c3467067ba7e5b2a5a95e79"
      },
      "cell_type": "code",
      "source": "plt.figure(figsize=(150,80))\nplt.tick_params(labelsize=50)\nplt.rcParams['lines.markersize'] = 50\nplt.plot(X_train_new_1.T,'*')\n#plt.ylim(0,64)\n#lt.ylim(0,10000)\nplt.xticks(rotation=45)\nplt.show()",
      "execution_count": null,
      "outputs": []
    },
    {
      "metadata": {
        "trusted": true,
        "_uuid": "cba47fd05241618405444448aabdf490caab88c3"
      },
      "cell_type": "code",
      "source": "#X_binarised_train=X_train_new.apply(pd.cut,bins=2,labels=[1,0])\n#X_binarised_train.head()",
      "execution_count": null,
      "outputs": []
    },
    {
      "metadata": {
        "trusted": true,
        "_uuid": "77e1a19f3e0ff9f8c086498655fe538f7d4bd65e"
      },
      "cell_type": "code",
      "source": "X_binarised_train=X_train_new_1\nX_binarised_train.head()",
      "execution_count": null,
      "outputs": []
    },
    {
      "metadata": {
        "trusted": true,
        "_uuid": "a3808ef29334905db368d54f6d19505952b8ddde"
      },
      "cell_type": "code",
      "source": "Y_train_new.head()",
      "execution_count": null,
      "outputs": []
    },
    {
      "metadata": {
        "trusted": true,
        "_uuid": "8774fbfb78e7ad755f68fea2942c126db23cec6c"
      },
      "cell_type": "code",
      "source": "type(Y_train_new)",
      "execution_count": null,
      "outputs": []
    },
    {
      "metadata": {
        "trusted": true,
        "_uuid": "3a8b906198bcc2a6f7a2126a29935fefe27059fa"
      },
      "cell_type": "code",
      "source": "#Converting seriesto dataframe\nY_train_new = Y_train_new.to_frame().reset_index()",
      "execution_count": null,
      "outputs": []
    },
    {
      "metadata": {
        "trusted": true,
        "_uuid": "930b8a3c6798943dac55f11d6180aff0e90842e5"
      },
      "cell_type": "code",
      "source": "#1->Like the mobile and 0-> Dislike\nY_binarised_train=Y_train_new['Rating'].map(lambda x:0 if x<4 else 1)\nY_binarised_train.head()",
      "execution_count": null,
      "outputs": []
    },
    {
      "metadata": {
        "trusted": true,
        "_uuid": "3e3e2b452166a9a27cd2d77eff7e2152c69f00c9"
      },
      "cell_type": "code",
      "source": "class MP_neuron:\n    def __init__(self):\n        self.b=None\n    def model(self,x):\n        return 1 if sum(x)>=self.b else 0\n    def predict(self,X):\n        Y=[]\n        for x in X:\n            result=self.model(x)\n            Y.append(result)\n        return np.array(Y)\n    def fit(self,X,Y):\n        accuracy={}\n        for b in range(X.shape[1]+1):\n            self.b=b\n            Y_pred=self.predict(X)\n            accuracy[b]=accuracy_score(Y_pred,Y)\n        best_b=max(accuracy,key=accuracy.get)\n        self.b=best_b\n        print('Optimal value of b',best_b)",
      "execution_count": null,
      "outputs": []
    },
    {
      "metadata": {
        "trusted": true,
        "_uuid": "7e7e74a288aab85141f7ca9dc622b836e9e11201"
      },
      "cell_type": "code",
      "source": "X_binarised_train=X_binarised_train.values\nY_binarised_train=Y_binarised_train.values",
      "execution_count": null,
      "outputs": []
    },
    {
      "metadata": {
        "trusted": true,
        "_uuid": "1999d2a87e55afc9373b8c4b023a16e45d4913fe"
      },
      "cell_type": "code",
      "source": "mp_neuron=MP_neuron()\nmp_neuron.fit(X_binarised_train,Y_binarised_train)",
      "execution_count": null,
      "outputs": []
    },
    {
      "metadata": {
        "trusted": true,
        "_uuid": "7a820641754ae45674cc4fcc24eabc9c85ec9edb"
      },
      "cell_type": "code",
      "source": "X_binarised_test=test_new\nX_binarised_test=X_binarised_test.drop(['PhoneId'],axis=1)",
      "execution_count": null,
      "outputs": []
    },
    {
      "metadata": {
        "trusted": true,
        "_uuid": "aa5b68e91a147c8ef4e8438405e5653c2753d69e"
      },
      "cell_type": "code",
      "source": "X_binarised_test['Screen to Body Ratio (calculated)']=X_binarised_test['Screen to Body Ratio (calculated)'].map(lambda x:1 if x>65  else 0)\nX_binarised_test['Processor_frequency']=X_binarised_test['Processor_frequency'].map(lambda x:1 if x>1.75  else 0)\nX_binarised_test['Resolution']=X_binarised_test['Resolution'].map(lambda x:1 if x>10  else 0)\nX_binarised_test['Screen Size']=X_binarised_test['Screen Size'].map(lambda x:1 if x>4.2  else 0)\nX_binarised_test['RAM']=X_binarised_test['RAM'].map(lambda x:1 if x<8  else 0)\nX_binarised_test['Pixel Density']=X_binarised_test['Pixel Density'].map(lambda x:1 if x>270  else 0)\nX_binarised_test['Height']=X_binarised_test['Height'].map(lambda x:1 if x>140  else 0)\nX_binarised_test['Capacity']=X_binarised_test['Capacity'].map(lambda x:1 if x>2500  else 0)\nX_binarised_test['Weight']=X_binarised_test['Weight'].map(lambda x:1 if x>145  else 0)\nX_binarised_test['Internal Memory']=X_binarised_test['Internal Memory'].map(lambda x:1 if x>16  else 0)",
      "execution_count": null,
      "outputs": []
    },
    {
      "metadata": {
        "trusted": true,
        "_uuid": "c340c3ca26d56bc2fac404cef52fd46cd3de1285"
      },
      "cell_type": "code",
      "source": "#X_binarised_test=test_new.apply(pd.cut,bins=2,labels=[0,1])\n#X_binarised_test.head()\n#X_binarised_test.shape\n#X_binarised_test=X_binarised_test.values",
      "execution_count": null,
      "outputs": []
    },
    {
      "metadata": {
        "trusted": true,
        "_uuid": "4e440327dcd7be3464e35c67cb31d07ca903c93c"
      },
      "cell_type": "code",
      "source": "X_binarised_test.head()",
      "execution_count": null,
      "outputs": []
    },
    {
      "metadata": {
        "trusted": true,
        "_uuid": "31ef6fb76f53bad58f1554a676499b9c531b689e"
      },
      "cell_type": "code",
      "source": "\nprint(X_binarised_test.shape)\nX_binarised_test=X_binarised_test.values",
      "execution_count": null,
      "outputs": []
    },
    {
      "metadata": {
        "trusted": true,
        "_uuid": "ffb2930d39a64e69849b8104f53575163cf1ef86"
      },
      "cell_type": "code",
      "source": "Y_test_pred=mp_neuron.predict(X_binarised_test)",
      "execution_count": null,
      "outputs": []
    },
    {
      "metadata": {
        "trusted": true,
        "_uuid": "2b6241add7a0f811350aee84e2fe24199d47f2c1"
      },
      "cell_type": "code",
      "source": "Y_test_pred.shape\ntype(Y_test_pred)",
      "execution_count": null,
      "outputs": []
    },
    {
      "metadata": {
        "trusted": true,
        "_uuid": "4d7e52ac71d829fbda94163ce54a8b05f5377c3b"
      },
      "cell_type": "code",
      "source": "print(Y_test_pred)",
      "execution_count": null,
      "outputs": []
    },
    {
      "metadata": {
        "trusted": true,
        "_uuid": "e8263f390bb6d16aa07562d1cb34828ede79015f"
      },
      "cell_type": "code",
      "source": "submission = pd.DataFrame({'PhoneId':test_new['PhoneId'], 'Class':Y_test_pred})\nsubmission = submission[['PhoneId', 'Class']]\nsubmission.head()",
      "execution_count": null,
      "outputs": []
    },
    {
      "metadata": {
        "trusted": true,
        "_uuid": "6e6d9a3addcbc295a2f6b4eff8869f8e0d6784e9"
      },
      "cell_type": "code",
      "source": "submission.to_csv(\"submission.csv\", index=False)",
      "execution_count": null,
      "outputs": []
    },
    {
      "metadata": {
        "trusted": true,
        "_uuid": "4218e6328eb3445db800747b4c716dba17ce7c48"
      },
      "cell_type": "code",
      "source": "",
      "execution_count": null,
      "outputs": []
    }
  ],
  "metadata": {
    "kernelspec": {
      "display_name": "Python 3",
      "language": "python",
      "name": "python3"
    },
    "language_info": {
      "name": "python",
      "version": "3.6.6",
      "mimetype": "text/x-python",
      "codemirror_mode": {
        "name": "ipython",
        "version": 3
      },
      "pygments_lexer": "ipython3",
      "nbconvert_exporter": "python",
      "file_extension": ".py"
    }
  },
  "nbformat": 4,
  "nbformat_minor": 1
}